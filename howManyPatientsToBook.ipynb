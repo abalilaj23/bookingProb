{
 "cells": [
  {
   "cell_type": "markdown",
   "id": "2721aac0-dcce-4f25-b9a7-2a8007325a4a",
   "metadata": {},
   "source": [
    "Consider a physician who's workload is 30 patients per day. Unfortunately, because of no-shows, about 25% of patients fail to show up to their appointments leading to loss revenue for the physician. In this activity we will walk through the process of finding the ideal amount of patient bookings per day. First, use python to intuitively calculate how many patients the physician should book to stay busy if only 75% of scheduled patients show up."
   ]
  },
  {
   "cell_type": "code",
   "execution_count": 2,
   "id": "7afab15c-0250-4758-9bb4-506b67d9a2da",
   "metadata": {},
   "outputs": [
    {
     "name": "stdout",
     "output_type": "stream",
     "text": [
      "Collecting scipy\n",
      "  Obtaining dependency information for scipy from https://files.pythonhosted.org/packages/af/25/caa430865749d504271757cafd24066d596217e83326155993980bc22f97/scipy-1.15.1-cp311-cp311-win_amd64.whl.metadata\n",
      "  Downloading scipy-1.15.1-cp311-cp311-win_amd64.whl.metadata (60 kB)\n",
      "     ---------------------------------------- 0.0/60.8 kB ? eta -:--:--\n",
      "     ------------ ------------------------- 20.5/60.8 kB 217.9 kB/s eta 0:00:01\n",
      "     -------------------------------- ----- 51.2/60.8 kB 525.1 kB/s eta 0:00:01\n",
      "     -------------------------------------- 60.8/60.8 kB 463.5 kB/s eta 0:00:00\n",
      "Requirement already satisfied: numpy<2.5,>=1.23.5 in c:\\users\\arjolabalilaj\\appdata\\local\\anaconda3\\lib\\site-packages (from scipy) (1.26.4)\n",
      "Downloading scipy-1.15.1-cp311-cp311-win_amd64.whl (43.9 MB)\n",
      "   ---------------------------------------- 0.0/43.9 MB ? eta -:--:--\n",
      "   ---------------------------------------- 0.3/43.9 MB 10.9 MB/s eta 0:00:04\n",
      "   - -------------------------------------- 1.2/43.9 MB 15.1 MB/s eta 0:00:03\n",
      "   - -------------------------------------- 1.8/43.9 MB 14.0 MB/s eta 0:00:04\n",
      "   -- ------------------------------------- 2.4/43.9 MB 14.1 MB/s eta 0:00:03\n",
      "   -- ------------------------------------- 2.6/43.9 MB 11.7 MB/s eta 0:00:04\n",
      "   --- ------------------------------------ 3.4/43.9 MB 12.9 MB/s eta 0:00:04\n",
      "   --- ------------------------------------ 4.3/43.9 MB 13.6 MB/s eta 0:00:03\n",
      "   ---- ----------------------------------- 5.2/43.9 MB 14.4 MB/s eta 0:00:03\n",
      "   ----- ---------------------------------- 6.1/43.9 MB 15.1 MB/s eta 0:00:03\n",
      "   ------ --------------------------------- 7.1/43.9 MB 15.6 MB/s eta 0:00:03\n",
      "   ------ --------------------------------- 7.7/43.9 MB 15.3 MB/s eta 0:00:03\n",
      "   ------- -------------------------------- 8.6/43.9 MB 15.8 MB/s eta 0:00:03\n",
      "   -------- ------------------------------- 9.5/43.9 MB 16.4 MB/s eta 0:00:03\n",
      "   --------- ------------------------------ 10.3/43.9 MB 16.4 MB/s eta 0:00:03\n",
      "   ---------- ----------------------------- 11.2/43.9 MB 16.8 MB/s eta 0:00:02\n",
      "   ----------- ---------------------------- 12.1/43.9 MB 17.7 MB/s eta 0:00:02\n",
      "   ----------- ---------------------------- 13.0/43.9 MB 19.2 MB/s eta 0:00:02\n",
      "   ------------ --------------------------- 14.0/43.9 MB 19.2 MB/s eta 0:00:02\n",
      "   ------------- -------------------------- 14.9/43.9 MB 19.3 MB/s eta 0:00:02\n",
      "   -------------- ------------------------- 15.7/43.9 MB 19.3 MB/s eta 0:00:02\n",
      "   --------------- ------------------------ 16.7/43.9 MB 19.3 MB/s eta 0:00:02\n",
      "   ---------------- ----------------------- 17.6/43.9 MB 19.3 MB/s eta 0:00:02\n",
      "   ---------------- ----------------------- 18.6/43.9 MB 19.8 MB/s eta 0:00:02\n",
      "   ----------------- ---------------------- 19.6/43.9 MB 19.8 MB/s eta 0:00:02\n",
      "   ------------------ --------------------- 20.4/43.9 MB 19.8 MB/s eta 0:00:02\n",
      "   ------------------- -------------------- 21.4/43.9 MB 19.8 MB/s eta 0:00:02\n",
      "   -------------------- ------------------- 22.2/43.9 MB 19.9 MB/s eta 0:00:02\n",
      "   -------------------- ------------------- 22.9/43.9 MB 19.3 MB/s eta 0:00:02\n",
      "   --------------------- ------------------ 23.9/43.9 MB 19.3 MB/s eta 0:00:02\n",
      "   ---------------------- ----------------- 24.7/43.9 MB 19.3 MB/s eta 0:00:01\n",
      "   ----------------------- ---------------- 25.7/43.9 MB 19.9 MB/s eta 0:00:01\n",
      "   ------------------------ --------------- 26.6/43.9 MB 19.3 MB/s eta 0:00:01\n",
      "   ------------------------ --------------- 27.3/43.9 MB 18.7 MB/s eta 0:00:01\n",
      "   ------------------------- -------------- 28.1/43.9 MB 18.7 MB/s eta 0:00:01\n",
      "   -------------------------- ------------- 28.8/43.9 MB 18.2 MB/s eta 0:00:01\n",
      "   -------------------------- ------------- 29.5/43.9 MB 18.2 MB/s eta 0:00:01\n",
      "   --------------------------- ------------ 30.3/43.9 MB 18.2 MB/s eta 0:00:01\n",
      "   ---------------------------- ----------- 31.3/43.9 MB 18.2 MB/s eta 0:00:01\n",
      "   ---------------------------- ----------- 31.8/43.9 MB 17.3 MB/s eta 0:00:01\n",
      "   ----------------------------- ---------- 32.4/43.9 MB 17.7 MB/s eta 0:00:01\n",
      "   ----------------------------- ---------- 32.9/43.9 MB 16.8 MB/s eta 0:00:01\n",
      "   ------------------------------ --------- 33.3/43.9 MB 16.4 MB/s eta 0:00:01\n",
      "   ------------------------------ --------- 33.8/43.9 MB 15.6 MB/s eta 0:00:01\n",
      "   ------------------------------- -------- 34.3/43.9 MB 15.6 MB/s eta 0:00:01\n",
      "   ------------------------------- -------- 34.8/43.9 MB 14.9 MB/s eta 0:00:01\n",
      "   -------------------------------- ------- 35.3/43.9 MB 14.2 MB/s eta 0:00:01\n",
      "   -------------------------------- ------- 35.9/43.9 MB 13.6 MB/s eta 0:00:01\n",
      "   --------------------------------- ------ 36.5/43.9 MB 13.6 MB/s eta 0:00:01\n",
      "   --------------------------------- ------ 37.0/43.9 MB 13.1 MB/s eta 0:00:01\n",
      "   ---------------------------------- ----- 37.7/43.9 MB 13.4 MB/s eta 0:00:01\n",
      "   ---------------------------------- ----- 38.3/43.9 MB 13.4 MB/s eta 0:00:01\n",
      "   ----------------------------------- ---- 39.0/43.9 MB 12.8 MB/s eta 0:00:01\n",
      "   ------------------------------------ --- 39.8/43.9 MB 12.8 MB/s eta 0:00:01\n",
      "   ------------------------------------ --- 40.5/43.9 MB 12.9 MB/s eta 0:00:01\n",
      "   ------------------------------------- -- 41.2/43.9 MB 12.8 MB/s eta 0:00:01\n",
      "   -------------------------------------- - 41.9/43.9 MB 12.8 MB/s eta 0:00:01\n",
      "   -------------------------------------- - 42.7/43.9 MB 13.1 MB/s eta 0:00:01\n",
      "   ---------------------------------------  43.4/43.9 MB 13.4 MB/s eta 0:00:01\n",
      "   ---------------------------------------  43.9/43.9 MB 13.6 MB/s eta 0:00:01\n",
      "   ---------------------------------------  43.9/43.9 MB 13.6 MB/s eta 0:00:01\n",
      "   ---------------------------------------  43.9/43.9 MB 13.6 MB/s eta 0:00:01\n",
      "   ---------------------------------------  43.9/43.9 MB 13.6 MB/s eta 0:00:01\n",
      "   ---------------------------------------- 43.9/43.9 MB 10.2 MB/s eta 0:00:00\n",
      "Installing collected packages: scipy\n",
      "Successfully installed scipy-1.15.1\n",
      "40.0\n"
     ]
    }
   ],
   "source": [
    "#install scipy\n",
    "!pip install scipy\n"
   ]
  },
  {
   "cell_type": "code",
   "execution_count": 3,
   "id": "21cb464b-578e-43e4-8273-40fd57c30521",
   "metadata": {},
   "outputs": [
    {
     "name": "stdout",
     "output_type": "stream",
     "text": [
      "40.0\n"
     ]
    }
   ],
   "source": [
    "#Import library\n",
    "import scipy\n",
    "from scipy.stats import binom\n",
    "\n",
    "#Max number of patients per day \n",
    "workload = 30\n",
    "\n",
    "#Percentage of patients that show up\n",
    "prob = 0.75\n",
    "\n",
    "#\"x\" is the answer\n",
    "x = workload/prob\n",
    "print(x)"
   ]
  },
  {
   "cell_type": "markdown",
   "id": "aed25b39-46a0-4300-bb15-abc70b8d2515",
   "metadata": {},
   "source": [
    "Because we are using historical data to assume 25% of patients no-show, this is a binomial distribution model. Similarly to how we calculate the normal distribution's Cumulative density function and Probability density function, we do the same for this normal distribution. Firstwe fill in the x and probability values to display the normal distribution of the linearly calculated value we found in the previous step."
   ]
  },
  {
   "cell_type": "code",
   "execution_count": 5,
   "id": "ab83815c-b2e8-4c3a-981e-4bd47a35f502",
   "metadata": {},
   "outputs": [
    {
     "name": "stdout",
     "output_type": "stream",
     "text": [
      "Collecting matplotlib\n",
      "  Obtaining dependency information for matplotlib from https://files.pythonhosted.org/packages/14/cf/e382598f98be11bf51dd0bc60eca44a517f6793e3dc8b9d53634a144620c/matplotlib-3.10.0-cp311-cp311-win_amd64.whl.metadata\n",
      "  Downloading matplotlib-3.10.0-cp311-cp311-win_amd64.whl.metadata (11 kB)\n",
      "Collecting contourpy>=1.0.1 (from matplotlib)\n",
      "  Obtaining dependency information for contourpy>=1.0.1 from https://files.pythonhosted.org/packages/a8/7e/cd93cab453720a5d6cb75588cc17dcdc08fc3484b9de98b885924ff61900/contourpy-1.3.1-cp311-cp311-win_amd64.whl.metadata\n",
      "  Downloading contourpy-1.3.1-cp311-cp311-win_amd64.whl.metadata (5.4 kB)\n",
      "Collecting cycler>=0.10 (from matplotlib)\n",
      "  Obtaining dependency information for cycler>=0.10 from https://files.pythonhosted.org/packages/e7/05/c19819d5e3d95294a6f5947fb9b9629efb316b96de511b418c53d245aae6/cycler-0.12.1-py3-none-any.whl.metadata\n",
      "  Downloading cycler-0.12.1-py3-none-any.whl.metadata (3.8 kB)\n",
      "Collecting fonttools>=4.22.0 (from matplotlib)\n",
      "  Obtaining dependency information for fonttools>=4.22.0 from https://files.pythonhosted.org/packages/42/d6/96dc2462006ffa16c8d475244e372abdc47d03a7bd38be0f29e7ae552af4/fonttools-4.55.8-cp311-cp311-win_amd64.whl.metadata\n",
      "  Downloading fonttools-4.55.8-cp311-cp311-win_amd64.whl.metadata (103 kB)\n",
      "     ---------------------------------------- 0.0/103.3 kB ? eta -:--:--\n",
      "     -------------- ---------------------- 41.0/103.3 kB 991.0 kB/s eta 0:00:01\n",
      "     -------------------------------------- 103.3/103.3 kB 1.5 MB/s eta 0:00:00\n",
      "Collecting kiwisolver>=1.3.1 (from matplotlib)\n",
      "  Obtaining dependency information for kiwisolver>=1.3.1 from https://files.pythonhosted.org/packages/2d/27/bdf1c769c83f74d98cbc34483a972f221440703054894a37d174fba8aa68/kiwisolver-1.4.8-cp311-cp311-win_amd64.whl.metadata\n",
      "  Downloading kiwisolver-1.4.8-cp311-cp311-win_amd64.whl.metadata (6.3 kB)\n",
      "Requirement already satisfied: numpy>=1.23 in c:\\users\\arjolabalilaj\\appdata\\local\\anaconda3\\lib\\site-packages (from matplotlib) (1.26.4)\n",
      "Requirement already satisfied: packaging>=20.0 in c:\\users\\arjolabalilaj\\appdata\\roaming\\python\\python311\\site-packages (from matplotlib) (23.1)\n",
      "Requirement already satisfied: pillow>=8 in c:\\users\\arjolabalilaj\\appdata\\local\\anaconda3\\lib\\site-packages (from matplotlib) (10.0.1)\n",
      "Collecting pyparsing>=2.3.1 (from matplotlib)\n",
      "  Obtaining dependency information for pyparsing>=2.3.1 from https://files.pythonhosted.org/packages/1c/a7/c8a2d361bf89c0d9577c934ebb7421b25dc84bf3a8e3ac0a40aed9acc547/pyparsing-3.2.1-py3-none-any.whl.metadata\n",
      "  Downloading pyparsing-3.2.1-py3-none-any.whl.metadata (5.0 kB)\n",
      "Requirement already satisfied: python-dateutil>=2.7 in c:\\users\\arjolabalilaj\\appdata\\roaming\\python\\python311\\site-packages (from matplotlib) (2.8.2)\n",
      "Requirement already satisfied: six>=1.5 in c:\\users\\arjolabalilaj\\appdata\\roaming\\python\\python311\\site-packages (from python-dateutil>=2.7->matplotlib) (1.16.0)\n",
      "Downloading matplotlib-3.10.0-cp311-cp311-win_amd64.whl (8.0 MB)\n",
      "   ---------------------------------------- 0.0/8.0 MB ? eta -:--:--\n",
      "   - -------------------------------------- 0.4/8.0 MB 8.5 MB/s eta 0:00:01\n",
      "   ---- ----------------------------------- 0.9/8.0 MB 9.2 MB/s eta 0:00:01\n",
      "   ------ --------------------------------- 1.2/8.0 MB 9.6 MB/s eta 0:00:01\n",
      "   ------- -------------------------------- 1.5/8.0 MB 8.7 MB/s eta 0:00:01\n",
      "   -------- ------------------------------- 1.8/8.0 MB 8.2 MB/s eta 0:00:01\n",
      "   ---------- ----------------------------- 2.1/8.0 MB 7.8 MB/s eta 0:00:01\n",
      "   ------------ --------------------------- 2.4/8.0 MB 7.8 MB/s eta 0:00:01\n",
      "   -------------- ------------------------- 2.8/8.0 MB 7.9 MB/s eta 0:00:01\n",
      "   ---------------- ----------------------- 3.3/8.0 MB 8.0 MB/s eta 0:00:01\n",
      "   ------------------ --------------------- 3.7/8.0 MB 8.1 MB/s eta 0:00:01\n",
      "   -------------------- ------------------- 4.1/8.0 MB 8.2 MB/s eta 0:00:01\n",
      "   --------------------- ------------------ 4.2/8.0 MB 8.2 MB/s eta 0:00:01\n",
      "   ---------------------- ----------------- 4.4/8.0 MB 7.4 MB/s eta 0:00:01\n",
      "   ----------------------- ---------------- 4.7/8.0 MB 7.3 MB/s eta 0:00:01\n",
      "   ------------------------- -------------- 5.0/8.0 MB 7.3 MB/s eta 0:00:01\n",
      "   -------------------------- ------------- 5.3/8.0 MB 7.3 MB/s eta 0:00:01\n",
      "   -------------------------- ------------- 5.4/8.0 MB 7.1 MB/s eta 0:00:01\n",
      "   --------------------------- ------------ 5.6/8.0 MB 6.9 MB/s eta 0:00:01\n",
      "   ----------------------------- ---------- 5.8/8.0 MB 6.8 MB/s eta 0:00:01\n",
      "   ----------------------------- ---------- 6.0/8.0 MB 6.6 MB/s eta 0:00:01\n",
      "   ------------------------------- -------- 6.3/8.0 MB 6.6 MB/s eta 0:00:01\n",
      "   -------------------------------- ------- 6.6/8.0 MB 6.6 MB/s eta 0:00:01\n",
      "   ---------------------------------- ----- 6.9/8.0 MB 6.6 MB/s eta 0:00:01\n",
      "   ----------------------------------- ---- 7.2/8.0 MB 6.6 MB/s eta 0:00:01\n",
      "   ------------------------------------- -- 7.5/8.0 MB 6.6 MB/s eta 0:00:01\n",
      "   ---------------------------------------  7.9/8.0 MB 6.7 MB/s eta 0:00:01\n",
      "   ---------------------------------------  8.0/8.0 MB 6.7 MB/s eta 0:00:01\n",
      "   ---------------------------------------  8.0/8.0 MB 6.7 MB/s eta 0:00:01\n",
      "   ---------------------------------------- 8.0/8.0 MB 6.1 MB/s eta 0:00:00\n",
      "Downloading contourpy-1.3.1-cp311-cp311-win_amd64.whl (219 kB)\n",
      "   ---------------------------------------- 0.0/219.8 kB ? eta -:--:--\n",
      "   --------------------------------------  215.0/219.8 kB 13.7 MB/s eta 0:00:01\n",
      "   ---------------------------------------- 219.8/219.8 kB 4.5 MB/s eta 0:00:00\n",
      "Downloading cycler-0.12.1-py3-none-any.whl (8.3 kB)\n",
      "Downloading fonttools-4.55.8-cp311-cp311-win_amd64.whl (2.2 MB)\n",
      "   ---------------------------------------- 0.0/2.2 MB ? eta -:--:--\n",
      "   ----- ---------------------------------- 0.3/2.2 MB 6.3 MB/s eta 0:00:01\n",
      "   ----------- ---------------------------- 0.6/2.2 MB 6.4 MB/s eta 0:00:01\n",
      "   ----------------- ---------------------- 0.9/2.2 MB 6.6 MB/s eta 0:00:01\n",
      "   ------------------------ --------------- 1.4/2.2 MB 7.1 MB/s eta 0:00:01\n",
      "   ------------------------------ --------- 1.7/2.2 MB 7.2 MB/s eta 0:00:01\n",
      "   ------------------------------------- -- 2.1/2.2 MB 7.4 MB/s eta 0:00:01\n",
      "   ---------------------------------------  2.2/2.2 MB 7.3 MB/s eta 0:00:01\n",
      "   ---------------------------------------- 2.2/2.2 MB 6.1 MB/s eta 0:00:00\n",
      "Downloading kiwisolver-1.4.8-cp311-cp311-win_amd64.whl (71 kB)\n",
      "   ---------------------------------------- 0.0/72.0 kB ? eta -:--:--\n",
      "   ---------------------------------------- 72.0/72.0 kB 4.1 MB/s eta 0:00:00\n",
      "Downloading pyparsing-3.2.1-py3-none-any.whl (107 kB)\n",
      "   ---------------------------------------- 0.0/107.7 kB ? eta -:--:--\n",
      "   ---------------------------------------- 107.7/107.7 kB 3.1 MB/s eta 0:00:00\n",
      "Installing collected packages: pyparsing, kiwisolver, fonttools, cycler, contourpy, matplotlib\n",
      "Successfully installed contourpy-1.3.1 cycler-0.12.1 fonttools-4.55.8 kiwisolver-1.4.8 matplotlib-3.10.0 pyparsing-3.2.1\n"
     ]
    }
   ],
   "source": [
    "#Install matplotlib\n",
    "!pip install matplotlib"
   ]
  },
  {
   "cell_type": "code",
   "execution_count": 6,
   "id": "23088171-66b0-410e-93ca-9d511af88c88",
   "metadata": {},
   "outputs": [
    {
     "data": {
      "image/png": "[encoded data removed]",
      "text/plain": [
       "<Figure size 640x480 with 1 Axes>"
      ]
     },
     "metadata": {},
     "output_type": "display_data"
    }
   ],
   "source": [
    "#Import libaries\n",
    "import scipy\n",
    "from scipy.stats import binom\n",
    "import matplotlib.pyplot as plt\n",
    "\n",
    "# set  the values of x and prob\n",
    "x = 40\n",
    "prob = 0.75\n",
    "# defining list of r values\n",
    "r_values = list(range(x + 1))\n",
    "\n",
    "# generate the \"dist\" variable by calling the binom.pmf() function below. this will be the list of pmf values\n",
    "dist= binom.pmf(r_values,30,0.75)\n",
    "\n",
    "# Plotting the graph. \n",
    "plots = plt.bar(r_values, dist)\n",
    "xy = []\n",
    "for plot in plots:\n",
    "    xy.append(plot.get_xy())\n",
    "plt.show()"
   ]
  },
  {
   "cell_type": "markdown",
   "id": "0ae08286-0617-43a9-a858-388c13bcc804",
   "metadata": {},
   "source": [
    "Next, we use Python's scipy.stats.binom package to get more insight of the situation. We find the cumulative density function to statistically calculate how much (in percent) will the physician be overbooked if we use the linear calculations from the first step to overbook patients."
   ]
  },
  {
   "cell_type": "code",
   "execution_count": 7,
   "id": "5c20a094-e8a8-48da-8614-c59df60ceb19",
   "metadata": {},
   "outputs": [
    {
     "name": "stdout",
     "output_type": "stream",
     "text": [
      "0.439539731672533\n"
     ]
    }
   ],
   "source": [
    "#Fill in linear prediction\n",
    "linearPrediction = 40\n",
    "workload = 30\n",
    "prob = 0.75\n",
    "#Find the amount overworked by calculating 1 - cdf(). Set the output to a variable called \"overworked\"\n",
    "z= binom.cdf(workload,40,prob)\n",
    "overworked= 1-z\n",
    "print(overworked)"
   ]
  },
  {
   "cell_type": "markdown",
   "id": "e6c330cc-293f-4d1f-a0b4-deee52b53129",
   "metadata": {},
   "source": [
    "Finally, we use the binomial ppf() function to what is the number of appointments the physician should book if she wants to limit the risk of having more than 30 appointments per day to 5%"
   ]
  },
  {
   "cell_type": "code",
   "execution_count": 8,
   "id": "c17dc3a4-cb42-416d-bb1c-546f4d4b5afe",
   "metadata": {},
   "outputs": [
    {
     "name": "stdout",
     "output_type": "stream",
     "text": [
      "34.0\n"
     ]
    }
   ],
   "source": [
    "#import binom object\n",
    "from scipy.stats import binom\n",
    "\n",
    "workload =30\n",
    "prob = 0.75\n",
    "#Target amount of overbooked patients\n",
    "target = 0.05\n",
    "\n",
    "# Set \"total\" = workload + ppf() -- hint: p = 1-prob\n",
    "\n",
    "y= binom.ppf(0.05, 30, 0.25)\n",
    "total= workload + y\n",
    "print(total)"
   ]
  },
  {
   "cell_type": "markdown",
   "id": "178f1751-2998-4021-bdc5-227006f3236f",
   "metadata": {},
   "source": [
    "Conclusion\n",
    "The physician should book 34 patients everyday to avoid having more than 30 appointments every day, which is the maximum workload this physican can handle. "
   ]
  }
 ],
 "metadata": {
  "kernelspec": {
   "display_name": "Python 3 (ipykernel)",
   "language": "python",
   "name": "python3"
  },
  "language_info": {
   "codemirror_mode": {
    "name": "ipython",
    "version": 3
   },
   "file_extension": ".py",
   "mimetype": "text/x-python",
   "name": "python",
   "nbconvert_exporter": "python",
   "pygments_lexer": "ipython3",
   "version": "3.11.5"
  }
 },
 "nbformat": 4,
 "nbformat_minor": 5
}
